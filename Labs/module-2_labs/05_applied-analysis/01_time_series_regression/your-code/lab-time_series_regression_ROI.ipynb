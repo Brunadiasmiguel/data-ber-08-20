{
 "cells": [
  {
   "cell_type": "code",
   "execution_count": 34,
   "metadata": {},
   "outputs": [],
   "source": [
    "import pandas as pd\n",
    "import numpy as np\n",
    "import matplotlib\n",
    "import matplotlib.pyplot as plt\n",
    "import seaborn as sns\n",
    "import statsmodels.api as sm\n",
    "\n",
    "from pandas.plotting import register_matplotlib_converters\n",
    "register_matplotlib_converters()"
   ]
  },
  {
   "cell_type": "markdown",
   "metadata": {},
   "source": [
    "# Evaluating the success of a marketing campaign\n",
    "\n",
    "Company J (e-commerce) hired you as their first data analyst, about 3 years after they first started operations. Things are a little messy with regards to what has been tracked and what data is available. \n",
    "\n",
    "**Today's date is October 21, 2019**\n",
    "\n",
    "The Marketing team ran a 3-week campaign to attract more traffic to the online shop with the hope of increasing revenue. \n",
    "\n",
    "The campaign ran from 2019-04-08 until 2019-04-28 (inclusive).\n",
    "\n",
    "Now that the company hired you, they are interested in evaluating whether the campaign was a success or not as they're planning on running a similar one again within the next couple of months. The challenge, however, is that you only have access to pageview data for the landing page. Company J has worked with a data consultancy in the past and they were able to provide some estimates with regards to conversions that you can find below.\n",
    "\n",
    "The goal of this lab is to guide you through working with vague requirements from stakeholders and only a handful of information. You start by taking a first look at the data to see if you can visually spot any meaningful variations. Following that, you are going to attempt to quantify the impact of the marketing campaign. Once you have some numbers, you will get access to a handful of additional data points that will support you in your conclusion. At the end, you will discuss your recommendation to the Marketing team with regards to the assumptions you had to make to get to your conclusion.\n",
    "\n",
    "Plan:\n",
    "\n",
    "1. Load and inspect the data\n",
    "2. Estimate the pageviews without campaign\n",
    "3. Compute difference in estimated (predicted) pageviews and actual pageviews\n",
    "4. Use data points provided by data consultancy to estimate ROI (return on investment)\n",
    "5. Conclude success of campaign"
   ]
  },
  {
   "cell_type": "markdown",
   "metadata": {},
   "source": [
    "## 1. Load and inspect data"
   ]
  },
  {
   "cell_type": "code",
   "execution_count": 2,
   "metadata": {},
   "outputs": [
    {
     "data": {
      "text/html": [
       "<div>\n",
       "<style scoped>\n",
       "    .dataframe tbody tr th:only-of-type {\n",
       "        vertical-align: middle;\n",
       "    }\n",
       "\n",
       "    .dataframe tbody tr th {\n",
       "        vertical-align: top;\n",
       "    }\n",
       "\n",
       "    .dataframe thead th {\n",
       "        text-align: right;\n",
       "    }\n",
       "</style>\n",
       "<table border=\"1\" class=\"dataframe\">\n",
       "  <thead>\n",
       "    <tr style=\"text-align: right;\">\n",
       "      <th></th>\n",
       "      <th>date_id</th>\n",
       "      <th>page_name</th>\n",
       "      <th>pageviews</th>\n",
       "    </tr>\n",
       "  </thead>\n",
       "  <tbody>\n",
       "    <tr>\n",
       "      <th>0</th>\n",
       "      <td>2018-12-31</td>\n",
       "      <td>landing_page</td>\n",
       "      <td>302878752</td>\n",
       "    </tr>\n",
       "    <tr>\n",
       "      <th>1</th>\n",
       "      <td>2019-01-01</td>\n",
       "      <td>landing_page</td>\n",
       "      <td>312601914</td>\n",
       "    </tr>\n",
       "    <tr>\n",
       "      <th>2</th>\n",
       "      <td>2019-01-02</td>\n",
       "      <td>landing_page</td>\n",
       "      <td>326949126</td>\n",
       "    </tr>\n",
       "    <tr>\n",
       "      <th>3</th>\n",
       "      <td>2019-01-03</td>\n",
       "      <td>landing_page</td>\n",
       "      <td>321689932</td>\n",
       "    </tr>\n",
       "    <tr>\n",
       "      <th>4</th>\n",
       "      <td>2019-01-04</td>\n",
       "      <td>landing_page</td>\n",
       "      <td>315004706</td>\n",
       "    </tr>\n",
       "    <tr>\n",
       "      <th>...</th>\n",
       "      <td>...</td>\n",
       "      <td>...</td>\n",
       "      <td>...</td>\n",
       "    </tr>\n",
       "    <tr>\n",
       "      <th>289</th>\n",
       "      <td>2019-10-16</td>\n",
       "      <td>landing_page</td>\n",
       "      <td>341898107</td>\n",
       "    </tr>\n",
       "    <tr>\n",
       "      <th>290</th>\n",
       "      <td>2019-10-17</td>\n",
       "      <td>landing_page</td>\n",
       "      <td>312829274</td>\n",
       "    </tr>\n",
       "    <tr>\n",
       "      <th>291</th>\n",
       "      <td>2019-10-18</td>\n",
       "      <td>landing_page</td>\n",
       "      <td>307511209</td>\n",
       "    </tr>\n",
       "    <tr>\n",
       "      <th>292</th>\n",
       "      <td>2019-10-19</td>\n",
       "      <td>landing_page</td>\n",
       "      <td>297483886</td>\n",
       "    </tr>\n",
       "    <tr>\n",
       "      <th>293</th>\n",
       "      <td>2019-10-20</td>\n",
       "      <td>landing_page</td>\n",
       "      <td>317181674</td>\n",
       "    </tr>\n",
       "  </tbody>\n",
       "</table>\n",
       "<p>294 rows × 3 columns</p>\n",
       "</div>"
      ],
      "text/plain": [
       "        date_id     page_name  pageviews\n",
       "0    2018-12-31  landing_page  302878752\n",
       "1    2019-01-01  landing_page  312601914\n",
       "2    2019-01-02  landing_page  326949126\n",
       "3    2019-01-03  landing_page  321689932\n",
       "4    2019-01-04  landing_page  315004706\n",
       "..          ...           ...        ...\n",
       "289  2019-10-16  landing_page  341898107\n",
       "290  2019-10-17  landing_page  312829274\n",
       "291  2019-10-18  landing_page  307511209\n",
       "292  2019-10-19  landing_page  297483886\n",
       "293  2019-10-20  landing_page  317181674\n",
       "\n",
       "[294 rows x 3 columns]"
      ]
     },
     "execution_count": 2,
     "metadata": {},
     "output_type": "execute_result"
    }
   ],
   "source": [
    "# load the csv into a pd.Dataframe and show a preview of the first rows\n",
    "\n",
    "df=pd.read_csv('../data/daily_pageviews.csv')\n",
    "\n",
    "df"
   ]
  },
  {
   "cell_type": "code",
   "execution_count": 3,
   "metadata": {},
   "outputs": [
    {
     "data": {
      "text/plain": [
       "date_id      object\n",
       "page_name    object\n",
       "pageviews     int64\n",
       "dtype: object"
      ]
     },
     "execution_count": 3,
     "metadata": {},
     "output_type": "execute_result"
    }
   ],
   "source": [
    "# check dtypes\n",
    "\n",
    "df.dtypes"
   ]
  },
  {
   "cell_type": "code",
   "execution_count": 4,
   "metadata": {},
   "outputs": [
    {
     "data": {
      "text/html": [
       "<div>\n",
       "<style scoped>\n",
       "    .dataframe tbody tr th:only-of-type {\n",
       "        vertical-align: middle;\n",
       "    }\n",
       "\n",
       "    .dataframe tbody tr th {\n",
       "        vertical-align: top;\n",
       "    }\n",
       "\n",
       "    .dataframe thead th {\n",
       "        text-align: right;\n",
       "    }\n",
       "</style>\n",
       "<table border=\"1\" class=\"dataframe\">\n",
       "  <thead>\n",
       "    <tr style=\"text-align: right;\">\n",
       "      <th></th>\n",
       "      <th>date_id</th>\n",
       "      <th>page_name</th>\n",
       "      <th>pageviews</th>\n",
       "    </tr>\n",
       "  </thead>\n",
       "  <tbody>\n",
       "    <tr>\n",
       "      <th>0</th>\n",
       "      <td>2018-12-31</td>\n",
       "      <td>landing_page</td>\n",
       "      <td>302878752</td>\n",
       "    </tr>\n",
       "    <tr>\n",
       "      <th>1</th>\n",
       "      <td>2019-01-01</td>\n",
       "      <td>landing_page</td>\n",
       "      <td>312601914</td>\n",
       "    </tr>\n",
       "    <tr>\n",
       "      <th>2</th>\n",
       "      <td>2019-01-02</td>\n",
       "      <td>landing_page</td>\n",
       "      <td>326949126</td>\n",
       "    </tr>\n",
       "    <tr>\n",
       "      <th>3</th>\n",
       "      <td>2019-01-03</td>\n",
       "      <td>landing_page</td>\n",
       "      <td>321689932</td>\n",
       "    </tr>\n",
       "    <tr>\n",
       "      <th>4</th>\n",
       "      <td>2019-01-04</td>\n",
       "      <td>landing_page</td>\n",
       "      <td>315004706</td>\n",
       "    </tr>\n",
       "    <tr>\n",
       "      <th>...</th>\n",
       "      <td>...</td>\n",
       "      <td>...</td>\n",
       "      <td>...</td>\n",
       "    </tr>\n",
       "    <tr>\n",
       "      <th>289</th>\n",
       "      <td>2019-10-16</td>\n",
       "      <td>landing_page</td>\n",
       "      <td>341898107</td>\n",
       "    </tr>\n",
       "    <tr>\n",
       "      <th>290</th>\n",
       "      <td>2019-10-17</td>\n",
       "      <td>landing_page</td>\n",
       "      <td>312829274</td>\n",
       "    </tr>\n",
       "    <tr>\n",
       "      <th>291</th>\n",
       "      <td>2019-10-18</td>\n",
       "      <td>landing_page</td>\n",
       "      <td>307511209</td>\n",
       "    </tr>\n",
       "    <tr>\n",
       "      <th>292</th>\n",
       "      <td>2019-10-19</td>\n",
       "      <td>landing_page</td>\n",
       "      <td>297483886</td>\n",
       "    </tr>\n",
       "    <tr>\n",
       "      <th>293</th>\n",
       "      <td>2019-10-20</td>\n",
       "      <td>landing_page</td>\n",
       "      <td>317181674</td>\n",
       "    </tr>\n",
       "  </tbody>\n",
       "</table>\n",
       "<p>294 rows × 3 columns</p>\n",
       "</div>"
      ],
      "text/plain": [
       "       date_id     page_name  pageviews\n",
       "0   2018-12-31  landing_page  302878752\n",
       "1   2019-01-01  landing_page  312601914\n",
       "2   2019-01-02  landing_page  326949126\n",
       "3   2019-01-03  landing_page  321689932\n",
       "4   2019-01-04  landing_page  315004706\n",
       "..         ...           ...        ...\n",
       "289 2019-10-16  landing_page  341898107\n",
       "290 2019-10-17  landing_page  312829274\n",
       "291 2019-10-18  landing_page  307511209\n",
       "292 2019-10-19  landing_page  297483886\n",
       "293 2019-10-20  landing_page  317181674\n",
       "\n",
       "[294 rows x 3 columns]"
      ]
     },
     "execution_count": 4,
     "metadata": {},
     "output_type": "execute_result"
    }
   ],
   "source": [
    "# convert `date_id` to a datetime type\n",
    "\n",
    "#pd.to_numeric(df['date_id'], errors='coerce')\n",
    "df['date_id']=pd.to_datetime(df['date_id'], errors='coerce')\n",
    "df"
   ]
  },
  {
   "cell_type": "code",
   "execution_count": 5,
   "metadata": {},
   "outputs": [
    {
     "data": {
      "text/plain": [
       "date_id      datetime64[ns]\n",
       "page_name            object\n",
       "pageviews             int64\n",
       "dtype: object"
      ]
     },
     "execution_count": 5,
     "metadata": {},
     "output_type": "execute_result"
    }
   ],
   "source": [
    "df.dtypes"
   ]
  },
  {
   "cell_type": "code",
   "execution_count": 30,
   "metadata": {},
   "outputs": [],
   "source": [
    "# set variables for the campaign start and end date as datetimes\n",
    "campaign_start = pd.to_datetime(\"2019-04-08\")\n",
    "campaign_end = pd.to_datetime(\"2019-04-28\")"
   ]
  },
  {
   "cell_type": "code",
   "execution_count": 45,
   "metadata": {},
   "outputs": [
    {
     "data": {
      "image/png": "[encoded data removed]",
      "text/plain": [
       "<Figure size 720x432 with 1 Axes>"
      ]
     },
     "metadata": {
      "needs_background": "light"
     },
     "output_type": "display_data"
    }
   ],
   "source": [
    "# plot daily pageview\n",
    "# add vertical lines in red according to the start date and end date of the marketing campaign\n",
    "\n",
    "x_min = df['date_id'].min()\n",
    "x_max = df['date_id'].max()\n",
    "\n",
    "\n",
    "fig, ax = plt.subplots(figsize=(10,6))\n",
    "sns.scatterplot(data=df,\n",
    "                x=\"date_id\",\n",
    "                y=\"pageviews\",\n",
    "                ax=ax)\n",
    "\n",
    "xposition = [campaign_start, campaign_end]\n",
    "for xc in xposition:\n",
    "    ax.axvline(x=xc, color='red', linestyle='-')\n"
   ]
  },
  {
   "cell_type": "markdown",
   "metadata": {},
   "source": [
    "You should be able to visually detect a slight difference between the days during campaign and the surrounding days. However, there is too much noise on the graph when using daily resolution, so you want to look at weekly data.\n",
    "\n",
    "To do so, you have to group your dataset by weeks and sum over pageview to get weekly pageviews.\n",
    "\n",
    "**I. Create a new column with each date truncated to the first day of a week (Mo)**\n",
    "1. For each `date_id`, retrieve the day of week as an `int`\n",
    "2. Convert that `int` into a `Timedelta` type and specify to interpret the value as Days\n",
    "3. Subtract that `Timedelta` from the `date_id`"
   ]
  },
  {
   "cell_type": "code",
   "execution_count": 8,
   "metadata": {},
   "outputs": [],
   "source": [
    "# 1. For each `date_id`, retrieve the day in week as an `int` and store it in a column `day_of_week`\n",
    "# For example, if `date_id = 2019-01-01`, then `day_of_week = 2 (or 1)` # for Tuesday"
   ]
  },
  {
   "cell_type": "code",
   "execution_count": 9,
   "metadata": {},
   "outputs": [],
   "source": [
    "# 2. Convert `day_of_week` into a `Timedelta` type"
   ]
  },
  {
   "cell_type": "code",
   "execution_count": 10,
   "metadata": {},
   "outputs": [],
   "source": [
    "# 3. Subtract `day_of_week` from `date_id` and assign it as a new column `week_id`\n",
    "# validate that you successfully truncated all `date_id`s to the first day of each week"
   ]
  },
  {
   "cell_type": "markdown",
   "metadata": {},
   "source": [
    "**II. Group by `week_id`**"
   ]
  },
  {
   "cell_type": "code",
   "execution_count": 11,
   "metadata": {},
   "outputs": [],
   "source": [
    "# Sum `pageviews` for each `week_id` and assign to a new DataFrame called `df_weekly`"
   ]
  },
  {
   "cell_type": "markdown",
   "metadata": {},
   "source": [
    "**III. Plot weekly pageviews**"
   ]
  },
  {
   "cell_type": "code",
   "execution_count": 12,
   "metadata": {},
   "outputs": [],
   "source": [
    "# plot weekly pageview\n",
    "# add vertical lines in red according to the start date and end date of the marketing campaign"
   ]
  },
  {
   "cell_type": "markdown",
   "metadata": {},
   "source": [
    "If you re-used the vertical lines from above, you notice that they might not do the best job in framing the area of the campaign. Move the vertical lines 1 week further apart."
   ]
  },
  {
   "cell_type": "code",
   "execution_count": 13,
   "metadata": {},
   "outputs": [],
   "source": [
    "# move the vertical lines so that they frame the campaign date range"
   ]
  },
  {
   "cell_type": "markdown",
   "metadata": {},
   "source": [
    "Better! After lowering the resolution to weekly precision, it is easier for us to detect the campaign. Visually, it did result in an increase in pageviews. In order for us to conclude, however, whether the campaign was a success or not, we need to estimate the impact.\n",
    "\n",
    "<!-- Estimating the impact of something that has happened in the past always comes with a lot of uncertainties. There are mulitple approaches to tackle that problem, none of them, however, allow you to draw conclusions about causality. -->\n",
    "\n",
    "One approach to estimate the impact is to (1.) estimate the number of pageviews company J would have had without the campaign to then (2.) subtract the actual observed pageviews from that estimate.\n",
    "In the following, you are going to tackle (1.) using Linear Regression. Linear Regression allows us to fit a line through the observed data points. That line can serve as an estimate for (1.).\n",
    "\n",
    "## 2. Estimate Pageviews without campaign\n",
    "\n",
    "In your first attempt, you are trying to estimate the number of weekly pageviews as a linear function dependent on time. \n",
    "\n",
    "That is: $\\hat{pageviews_t} = \\hat{const} + t*\\hat{time},    t \\epsilon \\{1, \\dots, T\\}$\n",
    "\n",
    "You will be using OLS to find your best estimate for the unknown $time$ and $const$ coefficients. \n",
    "\n",
    "Before you start though, you need to create a time variable. Datetime objects are extremely useful in general, but they don't allow us to run a regression. In other words, you need to convert the datetime x-axis to a numerical one. The most straightforward way to achieve this is to just add a column with incremental integers, starting from 1.\n",
    "\n",
    "**I. Create time variable $t$**"
   ]
  },
  {
   "cell_type": "code",
   "execution_count": 14,
   "metadata": {},
   "outputs": [],
   "source": [
    "# create time variable as a new column `t` \n",
    "# Make sure `df_weekly` is sorted by `week_id` ascending."
   ]
  },
  {
   "cell_type": "markdown",
   "metadata": {},
   "source": [
    "**II. Create constant**\n",
    "\n",
    "*Running OLS using the statsmodels package requires us to manually create a constant if we want it to be part of the regression*"
   ]
  },
  {
   "cell_type": "code",
   "execution_count": 15,
   "metadata": {},
   "outputs": [],
   "source": [
    "# create constant as a new column `const`"
   ]
  },
  {
   "cell_type": "markdown",
   "metadata": {},
   "source": [
    "**III. Run OLS and show summary**"
   ]
  },
  {
   "cell_type": "code",
   "execution_count": 16,
   "metadata": {},
   "outputs": [],
   "source": [
    "# Run OLS"
   ]
  },
  {
   "cell_type": "code",
   "execution_count": 17,
   "metadata": {},
   "outputs": [],
   "source": [
    "# Interpret the results in a few sentences"
   ]
  },
  {
   "cell_type": "markdown",
   "metadata": {},
   "source": [
    "**IV. Plot weekly pageviews incl. fitted line**\n",
    "\n",
    "Plot the same graph as above but add the new fitted line"
   ]
  },
  {
   "cell_type": "code",
   "execution_count": 18,
   "metadata": {},
   "outputs": [],
   "source": [
    "# Create new column in df with 'predicted pageviews' using the linear regression from above"
   ]
  },
  {
   "cell_type": "code",
   "execution_count": 19,
   "metadata": {},
   "outputs": [],
   "source": [
    "# plot weekly pageview and predicted pageviews\n",
    "# add vertical lines in red according to the start date and end date of the marketing campaign"
   ]
  },
  {
   "cell_type": "markdown",
   "metadata": {},
   "source": [
    "From reading the Regression output you should have already anticipated quite a bad result, but looking at it confirms that the model you chose is probably not the best one. \n",
    "\n",
    "Looking at the time-series, you might be better off fitting a quadratic line.\n",
    "\n",
    "## 2.1. Fit quadratic line\n",
    "\n",
    "$\\hat{pageviews_t} = \\hat{const} + t*\\hat{time} + t^2*\\hat{time^2}$\n",
    "\n",
    "**I. Add squared time variable**"
   ]
  },
  {
   "cell_type": "code",
   "execution_count": 20,
   "metadata": {},
   "outputs": [],
   "source": [
    "# add squared time variable"
   ]
  },
  {
   "cell_type": "code",
   "execution_count": 21,
   "metadata": {},
   "outputs": [],
   "source": [
    "# Rerun OLS\n",
    "# Run OLS"
   ]
  },
  {
   "cell_type": "code",
   "execution_count": 22,
   "metadata": {},
   "outputs": [],
   "source": [
    "# Compare the results to the first OLS summary"
   ]
  },
  {
   "cell_type": "markdown",
   "metadata": {},
   "source": [
    "**IV. Plot weekly pageviews incl. fitted line**\n",
    "\n",
    "Plot the graph from above (including the first fitted line) and add the quadratic line"
   ]
  },
  {
   "cell_type": "code",
   "execution_count": 23,
   "metadata": {},
   "outputs": [],
   "source": [
    "# Create new column in df with new 'predicted pageviews'"
   ]
  },
  {
   "cell_type": "code",
   "execution_count": 24,
   "metadata": {},
   "outputs": [],
   "source": [
    "# plot weekly pageviews, predicted pageviews and the predicted pageviews using the quadratic line\n",
    "# use different colors to distinguish the different lines\n",
    "# add vertical lines in red according to the start date and end date of the marketing campaign"
   ]
  },
  {
   "cell_type": "markdown",
   "metadata": {},
   "source": [
    "Much better. \n",
    "You are going to continue your analysis using the quadratic line as the estimate. Hence, you interpret the quadratic line as *weekly pageviews company J would have gotten without the campaign*. This helps you in isolating the impact that the campaign might have had.\n",
    "\n",
    "## 3. Compute difference in estimated (predicted) pageviews and actual pageviews\n",
    "\n",
    "Using that data, you can now easily compute the differences between the 'predicted' pageviews compared to the actual pageviews. You will attribute that difference to the Marketing campaign."
   ]
  },
  {
   "cell_type": "code",
   "execution_count": 25,
   "metadata": {},
   "outputs": [],
   "source": [
    "# filter the df for only the relevant rows that were affected by the marketing campaign \n",
    "# and the columns needed for analysis"
   ]
  },
  {
   "cell_type": "code",
   "execution_count": 26,
   "metadata": {},
   "outputs": [],
   "source": [
    "# compute the absolute difference in pageviews for each of the three weeks as a new column `diff`"
   ]
  },
  {
   "cell_type": "code",
   "execution_count": 27,
   "metadata": {},
   "outputs": [],
   "source": [
    "# Generate the total difference across the entire 3 weeks and print a sentence\n",
    "# How many additional pageviews can be attributed to the campaign using your model?"
   ]
  },
  {
   "cell_type": "code",
   "execution_count": 28,
   "metadata": {},
   "outputs": [],
   "source": [
    "# Generate the relative increase over 3 weeks and print a sentence (in %, 2 positions after the decimal)"
   ]
  },
  {
   "cell_type": "markdown",
   "metadata": {},
   "source": [
    "# 4. Calculate ROI\n",
    "\n",
    "As said above, company J has worked with a consultancy in the past and they provided the following useful estimates:\n",
    "\n",
    "On a weekly basis, \n",
    "- users view on average **17.3 pages**\n",
    "- the conversion rate for unique users overall is **0.1%**\n",
    "- purchasing users only did so **once** in that week\n",
    "- the average purchase amount is **48.9 EUR**\n",
    "- company J's profit margin is **10%** on average\n",
    "\n",
    "From the Marketing team, you know that they spent **75,000 EUR** on the entire campaign.\n",
    "\n",
    "Using these figures, you can attempt to calculate the return on investment by assuming they apply to the marketing campaign weeks.\n",
    "\n",
    "**I. Set variables for the data provided by the consultancy**"
   ]
  },
  {
   "cell_type": "code",
   "execution_count": 29,
   "metadata": {},
   "outputs": [
    {
     "ename": "SyntaxError",
     "evalue": "invalid syntax (<ipython-input-29-53c078d9c9d4>, line 1)",
     "output_type": "error",
     "traceback": [
      "\u001b[1;36m  File \u001b[1;32m\"<ipython-input-29-53c078d9c9d4>\"\u001b[1;36m, line \u001b[1;32m1\u001b[0m\n\u001b[1;33m    pvpu =  # pageviews per user\u001b[0m\n\u001b[1;37m            ^\u001b[0m\n\u001b[1;31mSyntaxError\u001b[0m\u001b[1;31m:\u001b[0m invalid syntax\n"
     ]
    }
   ],
   "source": [
    "pvpu =  # pageviews per user\n",
    "cr =  # conversion rate\n",
    "rev =  # average revenue per purchase\n",
    "margin =  # profit margin"
   ]
  },
  {
   "cell_type": "code",
   "execution_count": null,
   "metadata": {},
   "outputs": [],
   "source": [
    "# calculate the average profit per purchase"
   ]
  },
  {
   "cell_type": "markdown",
   "metadata": {},
   "source": [
    "**II. Estimate conversion using both the predicted and actual pageviews**"
   ]
  },
  {
   "cell_type": "code",
   "execution_count": null,
   "metadata": {},
   "outputs": [],
   "source": [
    "# re-use the dataframe from the previous section\n",
    "# add a new column `conversions` with estimated weekly conversions using the actual pageview numbers"
   ]
  },
  {
   "cell_type": "code",
   "execution_count": null,
   "metadata": {},
   "outputs": [],
   "source": [
    "# add a new column `pred_conversions` with predicted weekly conversions"
   ]
  },
  {
   "cell_type": "markdown",
   "metadata": {},
   "source": [
    "**III. Estimate the additional profit attributable to the Marketing campaign**"
   ]
  },
  {
   "cell_type": "code",
   "execution_count": null,
   "metadata": {},
   "outputs": [],
   "source": [
    "# add a new column `diff_profit` with the difference in profit between the estimated conversion and estimated predicted conversion"
   ]
  },
  {
   "cell_type": "code",
   "execution_count": null,
   "metadata": {},
   "outputs": [],
   "source": [
    "# Calculate the sum of the additional profit over the three weeks\n",
    "# print a sentence that states the estimated increase in profit due to the campaign"
   ]
  },
  {
   "cell_type": "markdown",
   "metadata": {},
   "source": [
    "# 5. Conclusion"
   ]
  },
  {
   "cell_type": "code",
   "execution_count": null,
   "metadata": {},
   "outputs": [],
   "source": [
    "# Write down your conclusion and your recommendation to the product team"
   ]
  },
  {
   "cell_type": "markdown",
   "metadata": {},
   "source": [
    "**Discussion**\n",
    "\n",
    "This analysis was based on many assumptions. Take some time to go through each of these assumptions and discuss their validity:\n",
    "\n",
    "Some of the crucial assumptions we made were:\n",
    "- Data points from the consultancy\n",
    "    - If the data points they provided was based on historical data from a time period before the marketing campaign started, what are potential risks when accepting them at face value?\n",
    "    - When applying the data points to 'newly acquired' users, what are potential biases?\n",
    "- Predicted Pageviews as a result of a linear regression\n",
    "    - How accurate is it to use the fitted quadratic line as a prediction for how many pageviews company J might have had without the campaign?\n",
    "    - How can you remedy some of these problems?\n",
    "    \n",
    "Think of other assumptions you made and discuss them as if you were to write a detailed analysis report to be shared with all employees in the company"
   ]
  },
  {
   "cell_type": "code",
   "execution_count": null,
   "metadata": {},
   "outputs": [],
   "source": []
  }
 ],
 "metadata": {
  "kernelspec": {
   "display_name": "Python 3",
   "language": "python",
   "name": "python3"
  },
  "language_info": {
   "codemirror_mode": {
    "name": "ipython",
    "version": 3
   },
   "file_extension": ".py",
   "mimetype": "text/x-python",
   "name": "python",
   "nbconvert_exporter": "python",
   "pygments_lexer": "ipython3",
   "version": "3.8.5"
  }
 },
 "nbformat": 4,
 "nbformat_minor": 2
}
