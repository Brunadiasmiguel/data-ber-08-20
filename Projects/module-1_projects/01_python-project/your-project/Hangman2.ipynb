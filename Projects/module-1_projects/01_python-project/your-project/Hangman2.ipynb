{
 "cells": [
  {
   "cell_type": "code",
   "execution_count": null,
   "metadata": {},
   "outputs": [],
   "source": []
  },
  {
   "cell_type": "code",
   "execution_count": 1,
   "metadata": {},
   "outputs": [
    {
     "name": "stdout",
     "output_type": "stream",
     "text": [
      "Welcome to Hangman! The rules are ...and you have 7 attempts to guess the word!Good luck :)\n",
      "You have 7 attempts left and you have used these letters:  \n",
      "Current word:  _ _ _ _\n",
      "Please write your guess: h\n",
      "You have 7 attempts left and you have used these letters:  h\n",
      "Current word:  h _ _ _\n",
      "Please write your guess: o\n",
      "You have 7 attempts left and you have used these letters:  h o\n",
      "Current word:  h o _ _\n",
      "Please write your guess: l\n",
      "You have 7 attempts left and you have used these letters:  l h o\n",
      "Current word:  h o l _\n",
      "Please write your guess: a\n",
      "YOU WON, GREAT GUESS! THE WORD WAS hola\n"
     ]
    }
   ],
   "source": [
    "import random\n",
    "import string\n",
    "\n",
    "guessing_list=[\"hola\",\"bruna\",\"person\",]\n",
    "\n",
    "print(\"Welcome to Hangman! The rules are ...and you have 7 attempts to guess the word!Good luck :)\")\n",
    "\n",
    "\n",
    "def get_random_word(initial_list):\n",
    "    word = random.choice(initial_list)  # randomly chooses something from the list\n",
    "    return word.lower()\n",
    "\n",
    "\n",
    "def hangman():\n",
    "    word = get_random_word(guessing_list)\n",
    "    word_letters = set(word)  # letters in the word, saves all the letters\n",
    "    all_letters = set(string.ascii_lowercase) #list of the lowercase letters from a to z - string operations\n",
    "    used_letters = set()  # what the user had guessed\n",
    "    attempts = 7 #hangman len\n",
    "\n",
    "    # getting user input\n",
    "    #len defines winning, attempts define losing basically\n",
    "    while len(word_letters) > 0 and attempts > 0:\n",
    "        # letters used\n",
    "        print('You have', attempts, 'attempts left and you have used these letters: ', ' '.join(used_letters))\n",
    "        # what current word is\n",
    "        word_list = [letter if letter in used_letters else '_' for letter in word]\n",
    "        print(\"Current word: \", \" \".join(word_list)) #join is a string method\n",
    "        user_letter = input(\"Please write your guess: \").lower() #ask user input\n",
    "        if user_letter in all_letters-used_letters: #if the input is a valid character that hasnt been used yet\n",
    "            used_letters.add(user_letter) #add it to used letters list if it hasnt been used yet\n",
    "            #The set add() method adds a given element to a set. If the element is already present, it doesn't add any element.\n",
    "            if user_letter in word_letters: #if user input is in the word\n",
    "                #saw in the internet, not understanding well\n",
    "                word_letters.remove(user_letter) #then its going to be removed from word_letters\n",
    "                #print('')\n",
    "                #print(\"good guess! the letter\", user_letter, \"is part of the word\")\n",
    "            else:\n",
    "                attempts-= 1  # attempts decreasing due to failure, when letter is not part of the word and player has less rounds to play\n",
    "                print(\"The letter,\", user_letter, \"is not part of the word\")\n",
    "        elif user_letter in used_letters: #nothing happens, just a reminder that the letter was used already\n",
    "            print(\"The letter was used already. Guess another letter please\")\n",
    "\n",
    "        else: #if its invalid, back to the cycle to ask input\n",
    "            print(\"That is not a valid letter\")\n",
    "\n",
    "    # gets here when len(word_letters) == 0 OR when lives == 0, the deal breakers for winning or losing \n",
    "    if attempts == 0:\n",
    "        print(\"You lost the game!Better luck next time. the word was\", word)\n",
    "    else:\n",
    "    #elif word==used_letters:\n",
    "        print(\"YOU WON, GREAT GUESS! THE WORD WAS\", word)\n",
    "\n",
    "\n",
    "#calling the game function, maybe break it more?\n",
    "hangman()"
   ]
  },
  {
   "cell_type": "code",
   "execution_count": null,
   "metadata": {},
   "outputs": [],
   "source": []
  },
  {
   "cell_type": "code",
   "execution_count": null,
   "metadata": {},
   "outputs": [],
   "source": []
  },
  {
   "cell_type": "code",
   "execution_count": null,
   "metadata": {},
   "outputs": [],
   "source": []
  },
  {
   "cell_type": "code",
   "execution_count": null,
   "metadata": {},
   "outputs": [],
   "source": []
  },
  {
   "cell_type": "code",
   "execution_count": null,
   "metadata": {},
   "outputs": [],
   "source": []
  }
 ],
 "metadata": {
  "kernelspec": {
   "display_name": "Python 3",
   "language": "python",
   "name": "python3"
  },
  "language_info": {
   "codemirror_mode": {
    "name": "ipython",
    "version": 3
   },
   "file_extension": ".py",
   "mimetype": "text/x-python",
   "name": "python",
   "nbconvert_exporter": "python",
   "pygments_lexer": "ipython3",
   "version": "3.8.5"
  }
 },
 "nbformat": 4,
 "nbformat_minor": 4
}
